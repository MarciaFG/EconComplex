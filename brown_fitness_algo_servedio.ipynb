{
  "nbformat": 4,
  "nbformat_minor": 0,
  "metadata": {
    "colab": {
      "provenance": [],
      "authorship_tag": "ABX9TyPMnD9+wnIzv/FYyUeM2HCq",
      "include_colab_link": true
    },
    "kernelspec": {
      "name": "python3",
      "display_name": "Python 3"
    },
    "language_info": {
      "name": "python"
    }
  },
  "cells": [
    {
      "cell_type": "markdown",
      "metadata": {
        "id": "view-in-github",
        "colab_type": "text"
      },
      "source": [
        "<a href=\"https://colab.research.google.com/github/MarciaFG/EconComplex/blob/main/brown_fitness_algo_servedio.ipynb\" target=\"_parent\"><img src=\"https://colab.research.google.com/assets/colab-badge.svg\" alt=\"Open In Colab\"/></a>"
      ]
    },
    {
      "cell_type": "code",
      "execution_count": null,
      "metadata": {
        "id": "j8YpbWXQMdYc"
      },
      "outputs": [],
      "source": [
        "\"\"\"\n",
        "Economic complexity algorithm by Vito Servedio\n",
        "Implementation Marcia R. Ferreira\n",
        "\"\"\"\n",
        "#! /usr/bin/python\n",
        "\n",
        "from math import fabs,sqrt\n",
        "import numpy\n",
        "import random\n",
        "import pandas as pd\n",
        "from sys import exit, argv\n",
        "import os.path\n",
        "import sys\n",
        "print(sys.path)\n",
        "os.chdir(\"YOUR PATH\") \n",
        "\n",
        "EPS = 1e-6 #convergence parameter\n",
        "\n",
        "# the following values will be used if there is no Mcp file\n",
        "# and a stochastic matrix will be generated:\n",
        "erdos_p = .1\n",
        "C = 100 # nr of authors\n",
        "P = 100 # nr of journals\n",
        "\n",
        "# it is possible to input the erdos param from command line\n",
        "# to generate the stoch matrix\n",
        "if(len(argv)>1):\n",
        "   erdos_p = float((argv[1]))\n",
        "\n",
        "# if the file matrix for time t exists than load it otherwise create a stochastic matrix\n",
        "if(not os.path.exists(\"./mat_1980\")):\n",
        "   Mcp = numpy.zeros((C,P))\n",
        "   for i in range(C):\n",
        "      for j in range(P):\n",
        "        Mcp[i,j] = 1.0 if(random.random()<erdos_p) else 0.0\n",
        "else:\n",
        "   print (\"Mcp exists, downloading. \"),\n",
        "   Mcp = numpy.loadtxt(\"./mat_1980\")\n",
        "   C = len(Mcp)\n",
        "   P = len(Mcp[0])\n",
        "   print (\"Dimensions: \",C,P)\n",
        "\n",
        "Mcp = Mcp.transpose()\n",
        "\n",
        "# save the stochastic Mcp in case of its use\n",
        "file = \"Mcp\"\n",
        "if(len(argv)>1):\n",
        "   file = file[:]+(\"_p=%f\" % erdos_p)\n",
        "if(not os.path.exists(file)): numpy.savetxt(file,Mcp,\"%g\")\n",
        "\n",
        "# Start of iterations\n",
        "\n",
        "# initialize all to one\n",
        "Simplicity = [1.0]*P\n",
        "Fitness = [1.0]*C\n",
        "Simplicity0 = Simplicity[:]\n",
        "Fitness0 = Fitness[:]\n",
        "\n",
        "count = 0\n",
        "while(True):\n",
        "   count += 1\n",
        "   for c in range(C):\n",
        "      Fitness[c] = 1.0\n",
        "      for p in range(P):\n",
        "        Fitness[c] += Mcp[c,p]/Simplicity0[p]\n",
        "\n",
        "   for p in range(P):\n",
        "      Simplicity[p] = 1.0\n",
        "      for c in range(C):\n",
        "        Simplicity[p] += Mcp[c,p]/Fitness0[c]\n",
        "\n",
        "   # check the error for the first country only\n",
        "   err = fabs(Fitness[0]-Fitness0[0])\n",
        "   #err = fabs(Fitness[0]-Fitness0[0])/Fitness[0] # in case of relative error check\n",
        "   # if for the first country the error is small, then check all others to find the maximum\n",
        "   if(err<EPS):\n",
        "      for c in range(C):\n",
        "        err = max(err, fabs(Fitness[c]-Fitness0[c]))\n",
        "      for p in range(p):\n",
        "        err = max(err, fabs(Simplicity[p]-Simplicity0[p]))\n",
        "      if(err<EPS):\n",
        "        print (\"Iteration: \", count, \" Final error: \", err)\n",
        "        break\n",
        "\n",
        "   print (\"Iteration: \", count, \" Error: \", err)\n",
        "\n",
        "   Fitness0 = Fitness[:]\n",
        "   Simplicity0 = Simplicity[:]\n",
        "\n",
        "# End of iterations\n",
        "\n",
        "# Output section follows\n",
        "file1 = \"Fitness_1980.dat\"\n",
        "file2 = \"Quality_1980.dat\"\n",
        "\n",
        "# if there was an erdos param as input create special file names\n",
        "if(len(argv)>1):\n",
        "   file1 = file1[:]+(\"_p=%f\" % erdos_p)\n",
        "   file2 = file2[:]+(\"_p=%f\" % erdos_p)\n",
        "\n",
        "out = open(file1,\"w\")\n",
        "out.write(\"# Iterations:\"+str(count)+\" Final error:\"+str(err)+\"\\n\")\n",
        "\n",
        "count = 0\n",
        "for i in Fitness:\n",
        "   count += 1\n",
        "   out.write(str(count)+\" \"+str(i)+\"\\n\")\n",
        "out.close()\n",
        "\n",
        "out = open(file2,\"w\")\n",
        "count = 0\n",
        "for i in Simplicity:\n",
        "   count += 1\n",
        "   # we print the complexity of products rather than their simplicity\n",
        "   q = 1.0/(i-1.0)\n",
        "   out.write(str(count)+\" \"+str(q)+\"\\n\")\n",
        "out.close()\n",
        "\n",
        "exit(\"end\")\n"
      ]
    },
    {
      "cell_type": "code",
      "source": [
        "# this code move to the shared drive contents\n",
        "import os\n",
        "from google.colab import drive\n",
        "drive.mount('/content/drive')\n",
        "#os.listdir('drive/MyDrive/Group5/data')\n",
        "os.listdir(os.getcwd())\n",
        "\n",
        "os.chdir('drive/MyDrive/Group5/data')\n",
        "\n",
        "os.listdir()"
      ],
      "metadata": {
        "colab": {
          "base_uri": "https://localhost:8080/"
        },
        "id": "C7KrgLQIDvsb",
        "outputId": "7ec009cb-2bc9-4db5-e09d-3f7ab27fafa7"
      },
      "execution_count": 1,
      "outputs": [
        {
          "output_type": "stream",
          "name": "stdout",
          "text": [
            "Mounted at /content/drive\n"
          ]
        },
        {
          "output_type": "execute_result",
          "data": {
            "text/plain": [
              "['colors.csv',\n",
              " 'ECUtils.py',\n",
              " 'employment',\n",
              " 'synthetic',\n",
              " 'network',\n",
              " 'economic',\n",
              " 'science',\n",
              " 'technology',\n",
              " 'export',\n",
              " 'Copia di ECUtils.py']"
            ]
          },
          "metadata": {},
          "execution_count": 1
        }
      ]
    },
    {
      "cell_type": "code",
      "source": [
        "from math import fabs,sqrt\n",
        "import numpy\n",
        "import random\n",
        "import pandas as pd\n",
        "from sys import exit, argv\n",
        "import os.path\n",
        "import sys\n",
        "print(sys.path)"
      ],
      "metadata": {
        "colab": {
          "base_uri": "https://localhost:8080/"
        },
        "id": "ci_SNluGd7lj",
        "outputId": "f768a8a1-b190-4b64-f0ab-562dd0cc005f"
      },
      "execution_count": 5,
      "outputs": [
        {
          "output_type": "stream",
          "name": "stdout",
          "text": [
            "['/content', '/env/python', '/usr/lib/python310.zip', '/usr/lib/python3.10', '/usr/lib/python3.10/lib-dynload', '', '/usr/local/lib/python3.10/dist-packages', '/usr/lib/python3/dist-packages', '/usr/local/lib/python3.10/dist-packages/IPython/extensions', '/root/.ipython']\n"
          ]
        }
      ]
    },
    {
      "cell_type": "code",
      "source": [
        "import os\n",
        "\n",
        "dir_path = '/content/drive/MyDrive/Group5/data/technology/countries'\n",
        "\n",
        "csv_files = [pos_csv for pos_csv in os.listdir(dir_path) if pos_csv.endswith('-mat_ah.csv')]\n",
        "\n",
        "data = {}\n",
        "for file in csv_files:\n",
        "    dict_key = file[:-4]\n",
        "    df = pd.read_csv(os.path.join(dir_path, file))\n",
        "    df = df.rename(columns={'Unnamed: 0': 'country'})\n",
        "    data[dict_key] = df\n",
        "\n",
        "reversed_keys = []\n",
        "for key in data:\n",
        "    parts = key.split('-')\n",
        "    new_key = '_'.join(reversed(parts))\n",
        "    globals()[new_key] = data[key]\n",
        "    reversed_keys.append(new_key)\n",
        "\n",
        "for name in reversed_keys:\n",
        "    print(name)\n",
        "\n",
        "periods = [(2010, 2012), (2012, 2014), (2014, 2016), (2016, 2018)]\n",
        "\n",
        "aggregated_data = {}\n",
        "\n",
        "for start, end in periods:\n",
        "    dfs = []\n",
        "    for year in range(start, end + 1):\n",
        "        key = f'mat_ah_{year}'\n",
        "        if key in reversed_keys:\n",
        "            dfs.append(globals()[key])\n",
        "    df = pd.concat(dfs, ignore_index=True)\n",
        "    df = df.groupby('country').sum().reset_index()\n",
        "    agg_key = f'agg_ah_{start}_{end}'\n",
        "    aggregated_data[agg_key] = df\n",
        "    print(f'For the period {start}-{end}, the aggregated data is stored in: {agg_key}')\n",
        "    print(df.head(2))\n",
        "    print()\n",
        "\n",
        "print(\"Names of the aggregated datasets:\")\n",
        "print(list(aggregated_data.keys()))\n",
        "\n",
        "for key, df in aggregated_data.items():\n",
        "    globals()[key] = df"
      ],
      "metadata": {
        "colab": {
          "base_uri": "https://localhost:8080/"
        },
        "id": "C0c4bEpqaoXb",
        "outputId": "32b5af7c-4fc4-4bd9-d51e-34367b715efe"
      },
      "execution_count": 6,
      "outputs": [
        {
          "output_type": "stream",
          "name": "stdout",
          "text": [
            "mat_ah_1984\n",
            "mat_ah_1987\n",
            "mat_ah_1982\n",
            "mat_ah_1980\n",
            "mat_ah_1978\n",
            "mat_ah_1981\n",
            "mat_ah_1985\n",
            "mat_ah_1983\n",
            "mat_ah_1988\n",
            "mat_ah_1979\n",
            "mat_ah_1986\n",
            "mat_ah_2018\n",
            "mat_ah_1991\n",
            "mat_ah_2004\n",
            "mat_ah_2007\n",
            "mat_ah_2015\n",
            "mat_ah_1995\n",
            "mat_ah_2013\n",
            "mat_ah_2009\n",
            "mat_ah_1989\n",
            "mat_ah_2002\n",
            "mat_ah_1999\n",
            "mat_ah_1997\n",
            "mat_ah_2008\n",
            "mat_ah_1998\n",
            "mat_ah_2014\n",
            "mat_ah_2003\n",
            "mat_ah_2006\n",
            "mat_ah_2005\n",
            "mat_ah_2011\n",
            "mat_ah_2010\n",
            "mat_ah_2012\n",
            "mat_ah_1993\n",
            "mat_ah_1996\n",
            "mat_ah_2000\n",
            "mat_ah_1994\n",
            "mat_ah_1990\n",
            "mat_ah_1992\n",
            "mat_ah_2001\n",
            "mat_ah_2017\n",
            "mat_ah_2016\n",
            "mat_ah_2021\n",
            "mat_ah_2020\n",
            "mat_ah_2019\n",
            "For the period 2010-2012, the aggregated data is stored in: agg_ah_2010_2012\n",
            "  country        A01        A21  A22        A23        A24       A41   A42  \\\n",
            "0     AUS  54.336290   3.500000  1.5  33.618720   0.000000  5.823810  3.00   \n",
            "1     AUT  70.901343  10.833333  1.4  17.536905  12.699444  8.142857  7.45   \n",
            "\n",
            "         A43        A44  ...    G12        G16       G21  G99         H01  \\\n",
            "0   6.833333   0.873333  ...  0.000  15.037466  3.058333  0.0   78.729486   \n",
            "1  17.694444  17.822727  ...  0.125   8.544228  0.291667  0.0  263.477099   \n",
            "\n",
            "          H02        H03         H04         H05  H99  \n",
            "0   44.967827   6.941667  136.530249   17.399623  0.0  \n",
            "1  129.762790  20.821032  123.762270  111.559256  0.0  \n",
            "\n",
            "[2 rows x 131 columns]\n",
            "\n",
            "For the period 2012-2014, the aggregated data is stored in: agg_ah_2012_2014\n",
            "  country        A01        A21       A22        A23       A24       A41  \\\n",
            "0     AUS  61.406958   2.146368  3.916667  37.532732  1.000000  2.851190   \n",
            "1     AUT  85.971050  26.231746  1.533333  23.095058  9.367302  7.458974   \n",
            "\n",
            "        A42        A43        A44  ...  G12        G16       G21  G99  \\\n",
            "0  0.000000   9.311111   3.740000  ...  0.0  14.273525  2.670238  0.0   \n",
            "1  5.848214  13.302778  21.792929  ...  0.0  13.745537  0.558333  0.0   \n",
            "\n",
            "          H01         H02        H03         H04         H05  H99  \n",
            "0   80.820911   49.350910  10.655952  159.907341   15.562266  0.0  \n",
            "1  315.760092  150.489362  16.115873  154.943429  139.166609  0.0  \n",
            "\n",
            "[2 rows x 131 columns]\n",
            "\n",
            "For the period 2014-2016, the aggregated data is stored in: agg_ah_2014_2016\n",
            "  country        A01        A21    A22        A23       A24        A41  \\\n",
            "0     AUS  67.861700   2.910256  3.250  31.289810  1.100000   6.779798   \n",
            "1     AUT  94.261525  25.888889  0.625  27.364714  3.867172  12.830012   \n",
            "\n",
            "        A42        A43        A44  ...  G12        G16       G21  G99  \\\n",
            "0  2.784656  12.866667   1.930952  ...  0.0  24.705624  4.336976  0.0   \n",
            "1  4.405357  11.275000  18.991414  ...  0.0  12.426967  0.916667  0.0   \n",
            "\n",
            "          H01         H02        H03         H04         H05  H99  \n",
            "0   81.093649   48.315259   9.957540  187.297016   13.228222  0.0  \n",
            "1  317.373826  143.527378  22.532143  197.584942  151.401881  0.0  \n",
            "\n",
            "[2 rows x 131 columns]\n",
            "\n",
            "For the period 2016-2018, the aggregated data is stored in: agg_ah_2016_2018\n",
            "  country         A01        A21       A22        A23       A24        A41  \\\n",
            "0     AUS   72.998205   1.174107  1.966667  34.680997  0.166667   9.332083   \n",
            "1     AUT  111.100743  26.862769  0.125000  34.228941  3.480159  15.582834   \n",
            "\n",
            "        A42        A43    A44  ...  G12        G16       G21  G99         H01  \\\n",
            "0  7.533333   7.416667   1.60  ...  0.0  25.567348  5.598087  0.0   69.169484   \n",
            "1  2.630303  12.851754  10.05  ...  0.0  13.114027  0.866667  0.0  363.259163   \n",
            "\n",
            "          H02        H03         H04         H05  H99  \n",
            "0   34.384775   5.269841  197.105784   14.323374  0.0  \n",
            "1  165.449427  46.592106  245.958169  141.632983  0.0  \n",
            "\n",
            "[2 rows x 131 columns]\n",
            "\n",
            "Names of the aggregated datasets:\n",
            "['agg_ah_2010_2012', 'agg_ah_2012_2014', 'agg_ah_2014_2016', 'agg_ah_2016_2018']\n"
          ]
        }
      ]
    },
    {
      "cell_type": "code",
      "source": [
        "for agg_key in list(aggregated_data.keys()):\n",
        "    df = aggregated_data[agg_key]\n",
        "    total_patents_per_country = df.iloc[:, 1:].sum(axis=1)\n",
        "    total_patents_per_technology_class = df.iloc[:, 1:].sum(axis=0)\n",
        "    total_patents = total_patents_per_country.sum()\n",
        "    rca_df = df.copy()\n",
        "    for technology_class in df.columns[1:]:\n",
        "        patents_per_country = df[technology_class]\n",
        "        patents_per_technology_class = total_patents_per_technology_class[technology_class]\n",
        "        rca = (patents_per_country / total_patents_per_country) / ((patents_per_technology_class + 1e-8) / total_patents)\n",
        "        rca_df[technology_class] = rca\n",
        "    rca_df = rca_df.fillna(0)\n",
        "    rca_key = agg_key.replace('agg', 'rca')\n",
        "    aggregated_data[rca_key] = rca_df\n",
        "    globals()[rca_key] = rca_df\n",
        "    print(f'RCA values for {agg_key} calculated and saved in {rca_key}')"
      ],
      "metadata": {
        "colab": {
          "base_uri": "https://localhost:8080/"
        },
        "id": "FxfJex8VehxE",
        "outputId": "9c7c08e3-7810-4228-a3c7-17d7b1744430"
      },
      "execution_count": 7,
      "outputs": [
        {
          "output_type": "stream",
          "name": "stdout",
          "text": [
            "RCA values for agg_ah_2010_2012 calculated and saved in rca_ah_2010_2012\n",
            "RCA values for agg_ah_2012_2014 calculated and saved in rca_ah_2012_2014\n",
            "RCA values for agg_ah_2014_2016 calculated and saved in rca_ah_2014_2016\n",
            "RCA values for agg_ah_2016_2018 calculated and saved in rca_ah_2016_2018\n"
          ]
        }
      ]
    },
    {
      "cell_type": "code",
      "source": [
        "for rca_key in ['rca_ah_2010_2012', 'rca_ah_2012_2014', 'rca_ah_2014_2016', 'rca_ah_2016_2018']:\n",
        "    df = globals()[rca_key]\n",
        "    countries = df['country']\n",
        "    df = df.drop(columns=['country'])\n",
        "    df = df.apply(pd.to_numeric, errors='coerce')\n",
        "    df = df.fillna(0)\n",
        "    binary_df = (df > 1).astype(int)\n",
        "    binary_df.insert(loc=0, column='country', value=countries)\n",
        "    binary_key = rca_key.replace('rca', 'binary')\n",
        "    globals()[binary_key] = binary_df\n",
        "    print(f'Binary matrix for {rca_key} calculated and saved in {binary_key}')"
      ],
      "metadata": {
        "colab": {
          "base_uri": "https://localhost:8080/"
        },
        "id": "rtE1zM1eer_r",
        "outputId": "db73657c-c33c-480d-d826-a5b489d0e203"
      },
      "execution_count": 8,
      "outputs": [
        {
          "output_type": "stream",
          "name": "stdout",
          "text": [
            "Binary matrix for rca_ah_2010_2012 calculated and saved in binary_ah_2010_2012\n",
            "Binary matrix for rca_ah_2012_2014 calculated and saved in binary_ah_2012_2014\n",
            "Binary matrix for rca_ah_2014_2016 calculated and saved in binary_ah_2014_2016\n",
            "Binary matrix for rca_ah_2016_2018 calculated and saved in binary_ah_2016_2018\n"
          ]
        }
      ]
    },
    {
      "cell_type": "code",
      "source": [
        "import pandas as pd\n",
        "import numpy as np\n",
        "from math import fabs\n",
        "\n",
        "def apply_algorithm(df, EPS=1e-6):\n",
        "    Mcp = df.values\n",
        "    C, P = Mcp.shape\n",
        "\n",
        "    # Start of iterations\n",
        "    Simplicity = np.ones(P)\n",
        "    Fitness = np.ones(C)\n",
        "    Simplicity0 = Simplicity.copy()\n",
        "    Fitness0 = Fitness.copy()\n",
        "\n",
        "    count = 0\n",
        "    while True:\n",
        "        count += 1\n",
        "        for c in range(C):\n",
        "            Fitness[c] = 1.0\n",
        "            for p in range(P):\n",
        "                Fitness[c] += Mcp[c,p]/Simplicity0[p]\n",
        "\n",
        "        for p in range(P):\n",
        "            Simplicity[p] = 1.0\n",
        "            for c in range(C):\n",
        "                Simplicity[p] += Mcp[c,p]/Fitness0[c]\n",
        "\n",
        "        # Check the error for the first country only\n",
        "        err = fabs(Fitness[0] - Fitness0[0])\n",
        "\n",
        "        # If for the first country the error is small, then check all others to find the maximum\n",
        "        if err < EPS:\n",
        "            for c in range(C):\n",
        "                err = max(err, fabs(Fitness[c] - Fitness0[c]))\n",
        "            for p in range(P):\n",
        "                err = max(err, fabs(Simplicity[p] - Simplicity0[p]))\n",
        "            if err < EPS:\n",
        "                print(\"Iteration: \", count, \" Final error: \", err)\n",
        "                break\n",
        "\n",
        "        print(\"Iteration: \", count, \" Error: \", err)\n",
        "\n",
        "        Fitness0 = Fitness.copy()\n",
        "        Simplicity0 = Simplicity.copy()\n",
        "\n",
        "    # Convert results to pandas Series and return them\n",
        "    Fitness = pd.Series(Fitness, index=df.index)\n",
        "    Simplicity = pd.Series(1.0 / (Simplicity - 1.0), index=df.columns)  # Complexity of products\n",
        "\n",
        "    return Fitness, Simplicity"
      ],
      "metadata": {
        "id": "hO3jW6Tcgbul"
      },
      "execution_count": 9,
      "outputs": []
    },
    {
      "cell_type": "code",
      "source": [
        "# Drop the 'country' column and apply the function to each dataframe\n",
        "Fitness1, Simplicity1 = apply_algorithm(binary_ah_2010_2012.drop(columns='country'))\n",
        "Fitness2, Simplicity2 = apply_algorithm(binary_ah_2012_2014.drop(columns='country'))\n",
        "Fitness3, Simplicity3 = apply_algorithm(binary_ah_2014_2016.drop(columns='country'))\n",
        "Fitness4, Simplicity4 = apply_algorithm(binary_ah_2016_2018.drop(columns='country'))\n",
        "\n",
        "# Now Fitness1, Simplicity1, Fitness2, Simplicity2, Fitness3, Simplicity3, Fitness4, and Simplicity4\n",
        "# are pandas Series with the country or product names as the index, and the fitness or simplicity\n",
        "# as the values."
      ],
      "metadata": {
        "colab": {
          "base_uri": "https://localhost:8080/"
        },
        "id": "yaqNKMTUayMl",
        "outputId": "09a7191a-600e-49ce-d5bc-7c9790713b1c"
      },
      "execution_count": 10,
      "outputs": [
        {
          "output_type": "stream",
          "name": "stdout",
          "text": [
            "Iteration:  1  Error:  55.0\n",
            "Iteration:  2  Error:  52.014225552964355\n",
            "Iteration:  3  Error:  35.64954056803023\n",
            "Iteration:  4  Error:  29.263065445566937\n",
            "Iteration:  5  Error:  25.2773630378747\n",
            "Iteration:  6  Error:  16.46844373360569\n",
            "Iteration:  7  Error:  15.17520799592343\n",
            "Iteration:  8  Error:  7.794926094493572\n",
            "Iteration:  9  Error:  7.338980620953489\n",
            "Iteration:  10  Error:  3.2195639413817396\n",
            "Iteration:  11  Error:  3.0542672919449494\n",
            "Iteration:  12  Error:  1.2411664819159043\n",
            "Iteration:  13  Error:  1.1806470510148799\n",
            "Iteration:  14  Error:  0.4649694361640542\n",
            "Iteration:  15  Error:  0.4427328746566275\n",
            "Iteration:  16  Error:  0.17229086203271038\n",
            "Iteration:  17  Error:  0.16410996743632467\n",
            "Iteration:  18  Error:  0.06358240443867658\n",
            "Iteration:  19  Error:  0.060571212672464014\n",
            "Iteration:  20  Error:  0.023429610350376606\n",
            "Iteration:  21  Error:  0.022321071848729446\n",
            "Iteration:  22  Error:  0.008628927199929137\n",
            "Iteration:  23  Error:  0.008220804724246022\n",
            "Iteration:  24  Error:  0.0031773288469949534\n",
            "Iteration:  25  Error:  0.003027069925131798\n",
            "Iteration:  26  Error:  0.0011698655417120563\n",
            "Iteration:  27  Error:  0.0011145440732533984\n",
            "Iteration:  28  Error:  0.0004307231172404613\n",
            "Iteration:  29  Error:  0.0004103551129475136\n",
            "Iteration:  30  Error:  0.0001585828379759846\n",
            "Iteration:  31  Error:  0.00015108383112050205\n",
            "Iteration:  32  Error:  5.8386526838205555e-05\n",
            "Iteration:  33  Error:  5.562557259963796e-05\n",
            "Iteration:  34  Error:  2.1496538366250206e-05\n",
            "Iteration:  35  Error:  2.0480021170499185e-05\n",
            "Iteration:  36  Error:  7.9145132474423e-06\n",
            "Iteration:  37  Error:  7.54025596449992e-06\n",
            "Iteration:  38  Error:  2.9139347219597767e-06\n",
            "Iteration:  39  Error:  2.776142125071601e-06\n",
            "Iteration:  40  Error:  1.0728410728688687e-06\n",
            "Iteration:  41  Error:  1.0221091386597436e-06\n",
            "Iteration:  42  Final error:  5.608642652532581e-07\n",
            "Iteration:  1  Error:  56.0\n",
            "Iteration:  2  Error:  53.0606289733182\n",
            "Iteration:  3  Error:  36.44154753618182\n",
            "Iteration:  4  Error:  30.117090889142798\n",
            "Iteration:  5  Error:  26.067836305216826\n"
          ]
        },
        {
          "output_type": "stream",
          "name": "stderr",
          "text": [
            "<ipython-input-9-72121356bbae>:48: RuntimeWarning: divide by zero encountered in true_divide\n",
            "  Simplicity = pd.Series(1.0 / (Simplicity - 1.0), index=df.columns)  # Complexity of products\n"
          ]
        },
        {
          "output_type": "stream",
          "name": "stdout",
          "text": [
            "Iteration:  6  Error:  17.15999283151595\n",
            "Iteration:  7  Error:  15.847588974107232\n",
            "Iteration:  8  Error:  8.205489421903138\n",
            "Iteration:  9  Error:  7.743319076953831\n",
            "Iteration:  10  Error:  3.405733235610384\n",
            "Iteration:  11  Error:  3.2383753018104358\n",
            "Iteration:  12  Error:  1.3145084119927617\n",
            "Iteration:  13  Error:  1.253308551275282\n",
            "Iteration:  14  Error:  0.4922307922931637\n",
            "Iteration:  15  Error:  0.4697723541266541\n",
            "Iteration:  16  Error:  0.1822056508745149\n",
            "Iteration:  17  Error:  0.17395366139885482\n",
            "Iteration:  18  Error:  0.0671596206761862\n",
            "Iteration:  19  Error:  0.06412617055171665\n",
            "Iteration:  20  Error:  0.024716240819302016\n",
            "Iteration:  21  Error:  0.023600952219965166\n",
            "Iteration:  22  Error:  0.009091023751082616\n",
            "Iteration:  23  Error:  0.008680948180490589\n",
            "Iteration:  24  Error:  0.0033431416820235427\n",
            "Iteration:  25  Error:  0.003192359483051632\n",
            "Iteration:  26  Error:  0.0012293193361259114\n",
            "Iteration:  27  Error:  0.0011738772299594302\n",
            "Iteration:  28  Error:  0.0004520255709223875\n",
            "Iteration:  29  Error:  0.0004316396360124486\n",
            "Iteration:  30  Error:  0.0001662099671904116\n",
            "Iteration:  31  Error:  0.0001587140978429602\n",
            "Iteration:  32  Error:  6.111524896112996e-05\n",
            "Iteration:  33  Error:  5.835903104411955e-05\n",
            "Iteration:  34  Error:  2.2471990682504384e-05\n",
            "Iteration:  35  Error:  2.145853409274423e-05\n",
            "Iteration:  36  Error:  8.262915343948407e-06\n",
            "Iteration:  37  Error:  7.890269067445388e-06\n",
            "Iteration:  38  Error:  3.0382603384282447e-06\n",
            "Iteration:  39  Error:  2.901238943309181e-06\n",
            "Iteration:  40  Error:  1.1171632579021207e-06\n",
            "Iteration:  41  Error:  1.0667807117670236e-06\n",
            "Iteration:  42  Final error:  5.505516966763935e-07\n",
            "Iteration:  1  Error:  51.0\n"
          ]
        },
        {
          "output_type": "stream",
          "name": "stderr",
          "text": [
            "<ipython-input-9-72121356bbae>:48: RuntimeWarning: divide by zero encountered in true_divide\n",
            "  Simplicity = pd.Series(1.0 / (Simplicity - 1.0), index=df.columns)  # Complexity of products\n"
          ]
        },
        {
          "output_type": "stream",
          "name": "stdout",
          "text": [
            "Iteration:  2  Error:  48.44492015244578\n",
            "Iteration:  3  Error:  32.815339723703424\n",
            "Iteration:  4  Error:  27.387951948783936\n",
            "Iteration:  5  Error:  23.6766551127114\n",
            "Iteration:  6  Error:  15.801602254080809\n",
            "Iteration:  7  Error:  14.619320111156963\n",
            "Iteration:  8  Error:  7.6266718414381565\n",
            "Iteration:  9  Error:  7.21584349223814\n",
            "Iteration:  10  Error:  3.167203379152692\n",
            "Iteration:  11  Error:  3.0201570940219824\n",
            "Iteration:  12  Error:  1.2156797351087434\n",
            "Iteration:  13  Error:  1.1624917995985236\n",
            "Iteration:  14  Error:  0.45138032621417423\n",
            "Iteration:  15  Error:  0.43206876691702334\n",
            "Iteration:  16  Error:  0.16547117402367206\n",
            "Iteration:  17  Error:  0.15844987402876853\n",
            "Iteration:  18  Error:  0.06037343826683639\n",
            "Iteration:  19  Error:  0.0578193607928128\n",
            "Iteration:  20  Error:  0.021989576196943972\n",
            "Iteration:  21  Error:  0.02106033338282387\n",
            "Iteration:  22  Error:  0.008004120507823842\n",
            "Iteration:  23  Error:  0.0076660144684659315\n",
            "Iteration:  24  Error:  0.0029127998321314408\n",
            "Iteration:  25  Error:  0.002789776628151941\n",
            "Iteration:  26  Error:  0.0010599158819815102\n",
            "Iteration:  27  Error:  0.001015152291298449\n",
            "Iteration:  28  Error:  0.0003856727675639604\n",
            "Iteration:  29  Error:  0.00036938490215376873\n",
            "Iteration:  30  Error:  0.00014033362868914878\n",
            "Iteration:  31  Error:  0.0001344070517284024\n",
            "Iteration:  32  Error:  5.1062584532246547e-05\n",
            "Iteration:  33  Error:  4.890611232255537e-05\n",
            "Iteration:  34  Error:  1.857989248321701e-05\n",
            "Iteration:  35  Error:  1.7795228234973592e-05\n",
            "Iteration:  36  Error:  6.760570865793625e-06\n",
            "Iteration:  37  Error:  6.475059173283171e-06\n",
            "Iteration:  38  Error:  2.459934023590904e-06\n",
            "Iteration:  39  Error:  2.356046373108711e-06\n",
            "Iteration:  40  Error:  1.3389288398002464e-06\n",
            "Iteration:  41  Error:  1.2823833870356793e-06\n",
            "Iteration:  42  Final error:  4.87189097952978e-07\n",
            "Iteration:  1  Error:  51.0\n",
            "Iteration:  2  Error:  48.488148435332185\n"
          ]
        },
        {
          "output_type": "stream",
          "name": "stderr",
          "text": [
            "<ipython-input-9-72121356bbae>:48: RuntimeWarning: divide by zero encountered in true_divide\n",
            "  Simplicity = pd.Series(1.0 / (Simplicity - 1.0), index=df.columns)  # Complexity of products\n"
          ]
        },
        {
          "output_type": "stream",
          "name": "stdout",
          "text": [
            "Iteration:  3  Error:  32.55819009773655\n",
            "Iteration:  4  Error:  27.274085261331297\n",
            "Iteration:  5  Error:  23.482634794079484\n",
            "Iteration:  6  Error:  15.774661405073545\n",
            "Iteration:  7  Error:  14.562569156765342\n",
            "Iteration:  8  Error:  7.662709674647992\n",
            "Iteration:  9  Error:  7.239359343241087\n",
            "Iteration:  10  Error:  3.20744921007935\n",
            "Iteration:  11  Error:  3.0549993703202176\n",
            "Iteration:  12  Error:  1.2408979418409665\n",
            "Iteration:  13  Error:  1.1853943380296492\n",
            "Iteration:  14  Error:  0.4642169863191832\n",
            "Iteration:  15  Error:  0.44392839130734885\n",
            "Iteration:  16  Error:  0.171407239944795\n",
            "Iteration:  17  Error:  0.16398015860657011\n",
            "Iteration:  18  Error:  0.06298077799685586\n",
            "Iteration:  19  Error:  0.06026047544872881\n",
            "Iteration:  20  Error:  0.02309932909150092\n",
            "Iteration:  21  Error:  0.02210277340025968\n",
            "Iteration:  22  Error:  0.008466443537034962\n",
            "Iteration:  23  Error:  0.00810133900921528\n",
            "Iteration:  24  Error:  0.0031023895340922536\n",
            "Iteration:  25  Error:  0.002968623969024975\n",
            "Iteration:  26  Error:  0.001136717737765025\n",
            "Iteration:  27  Error:  0.0010877087604832525\n",
            "Iteration:  28  Error:  0.0004164804786839227\n",
            "Iteration:  29  Error:  0.00039852452440314323\n",
            "Iteration:  30  Error:  0.00015259187960126042\n",
            "Iteration:  31  Error:  0.00014601315198348175\n",
            "Iteration:  32  Error:  5.590701114144281e-05\n",
            "Iteration:  33  Error:  5.34966865686215e-05\n",
            "Iteration:  34  Error:  2.0483323464048908e-05\n",
            "Iteration:  35  Error:  1.960022479963186e-05\n",
            "Iteration:  36  Error:  7.504716904804809e-06\n",
            "Iteration:  37  Error:  7.181165763370245e-06\n",
            "Iteration:  38  Error:  2.749591093476056e-06\n",
            "Iteration:  39  Error:  2.6310478844493446e-06\n",
            "Iteration:  40  Error:  1.0073998346626922e-06\n",
            "Iteration:  41  Error:  1.3872925137548009e-06\n",
            "Iteration:  42  Final error:  5.31179317420083e-07\n"
          ]
        },
        {
          "output_type": "stream",
          "name": "stderr",
          "text": [
            "<ipython-input-9-72121356bbae>:48: RuntimeWarning: divide by zero encountered in true_divide\n",
            "  Simplicity = pd.Series(1.0 / (Simplicity - 1.0), index=df.columns)  # Complexity of products\n"
          ]
        }
      ]
    },
    {
      "cell_type": "code",
      "source": [
        "Simplicity1.head(10)"
      ],
      "metadata": {
        "colab": {
          "base_uri": "https://localhost:8080/"
        },
        "id": "8tXAhOqVg34Q",
        "outputId": "0cc30149-f891-4a32-e79a-13fe6a54130a"
      },
      "execution_count": 16,
      "outputs": [
        {
          "output_type": "execute_result",
          "data": {
            "text/plain": [
              "A01    0.827514\n",
              "A21    1.330315\n",
              "A22    2.137710\n",
              "A23    0.788672\n",
              "A24    2.112353\n",
              "A41    1.044039\n",
              "A42    2.435310\n",
              "A43    2.250615\n",
              "A44    4.139650\n",
              "A45    1.279778\n",
              "dtype: float64"
            ]
          },
          "metadata": {},
          "execution_count": 16
        }
      ]
    },
    {
      "cell_type": "code",
      "source": [],
      "metadata": {
        "id": "BYYQ_9LTg62Z"
      },
      "execution_count": null,
      "outputs": []
    }
  ]
}